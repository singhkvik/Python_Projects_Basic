{
 "cells": [
  {
   "cell_type": "code",
   "execution_count": 1,
   "id": "e143724a",
   "metadata": {},
   "outputs": [],
   "source": [
    "import random"
   ]
  },
  {
   "cell_type": "code",
   "execution_count": 2,
   "id": "0bc9fe4b",
   "metadata": {},
   "outputs": [],
   "source": [
    "logo = \"\"\"\n",
    "  ________                                __  .__                                 ___.                 \n",
    " /  _____/ __ __   ____   ______ ______ _/  |_|  |__   ____     ____  __ __  _____\\_ |__   ___________ \n",
    "/   \\  ___|  |  \\_/ __ \\ /  ___//  ___/ \\   __\\  |  \\_/ __ \\   /    \\|  |  \\/     \\| __ \\_/ __ \\_  __ \\\n",
    "\\    \\_\\  \\  |  /\\  ___/ \\___ \\ \\___ \\   |  | |   Y  \\  ___/  |   |  \\  |  /  Y Y  \\ \\_\\ \\  ___/|  | \\/\n",
    " \\______  /____/  \\___  >____  >____  >  |__| |___|  /\\___  > |___|  /____/|__|_|  /___  /\\___  >__|   \n",
    "        \\/            \\/     \\/     \\/             \\/     \\/       \\/            \\/    \\/     \\/       \n",
    "\"\"\""
   ]
  },
  {
   "cell_type": "code",
   "execution_count": 3,
   "id": "0bfc00a5",
   "metadata": {},
   "outputs": [
    {
     "name": "stdout",
     "output_type": "stream",
     "text": [
      "\n",
      "  ________                                __  .__                                 ___.                 \n",
      " /  _____/ __ __   ____   ______ ______ _/  |_|  |__   ____     ____  __ __  _____\\_ |__   ___________ \n",
      "/   \\  ___|  |  \\_/ __ \\ /  ___//  ___/ \\   __\\  |  \\_/ __ \\   /    \\|  |  \\/     \\| __ \\_/ __ \\_  __ \\    \\_\\  \\  |  /\\  ___/ \\___ \\ \\___ \\   |  | |   Y  \\  ___/  |   |  \\  |  /  Y Y  \\ \\_\\ \\  ___/|  | \\/\n",
      " \\______  /____/  \\___  >____  >____  >  |__| |___|  /\\___  > |___|  /____/|__|_|  /___  /\\___  >__|   \n",
      "        \\/            \\/     \\/     \\/             \\/     \\/       \\/            \\/    \\/     \\/       \n",
      "\n",
      "Welcome to the Number Guessing Game!\n",
      "I'm thinking of a number between 1 and 100.\n",
      "Choose a difficulty level. Type 'easy' or 'hard': hard\n",
      "You have 5 attempts remaining to guess the number.\n",
      "Make a guess: 50\n",
      "Too Low\n",
      "You have 4 attempts remaining to guess the number.\n",
      "Make a guess: 30\n",
      "Too Low\n",
      "You have 3 attempts remaining to guess the number.\n",
      "Make a guess: 40\n",
      "Too Low\n",
      "You have 2 attempts remaining to guess the number.\n",
      "Make a guess: 46\n",
      "Too Low\n",
      "You have 1 attempts remaining to guess the number.\n",
      "Make a guess: 49\n",
      "Too Low\n",
      "You've run out of guesses, you lose.\n"
     ]
    }
   ],
   "source": [
    "print(logo)\n",
    "print(\"Welcome to the Number Guessing Game!\")\n",
    "print(\"I'm thinking of a number between 1 and 100.\")\n",
    "computer_number = random.randint(1,100)\n",
    "\n",
    "difficulty_level = input(\"Choose a difficulty level. Type 'easy' or 'hard': \")\n",
    "\n",
    "if difficulty_level == \"easy\":\n",
    "    attempts = 10\n",
    "else:\n",
    "    attempts = 5\n",
    "\n",
    "user_guess = 0 \n",
    "while user_guess != computer_number and attempts != 0:\n",
    "    print(f\"You have {attempts} attempts remaining to guess the number.\")\n",
    "    user_guess = int(input(\"Make a guess: \"))\n",
    "\n",
    "    if user_guess > computer_number:\n",
    "        print(\"Too High.\")\n",
    "        attempts -= 1\n",
    "    elif user_guess < computer_number:\n",
    "        print(\"Too Low\")\n",
    "        attempts -= 1\n",
    "    else:\n",
    "        print(f\"You got it! The answer was {computer_number}\")\n",
    "\n",
    "if user_guess != computer_number:\n",
    "    print(\"You've run out of guesses, you lose.\")\n"
   ]
  }
 ],
 "metadata": {
  "kernelspec": {
   "display_name": "Python 3",
   "language": "python",
   "name": "python3"
  },
  "language_info": {
   "codemirror_mode": {
    "name": "ipython",
    "version": 3
   },
   "file_extension": ".py",
   "mimetype": "text/x-python",
   "name": "python",
   "nbconvert_exporter": "python",
   "pygments_lexer": "ipython3",
   "version": "3.8.8"
  }
 },
 "nbformat": 4,
 "nbformat_minor": 5
}
