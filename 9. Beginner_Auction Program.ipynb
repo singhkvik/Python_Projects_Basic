{
 "cells": [
  {
   "cell_type": "code",
   "execution_count": 1,
   "id": "778b6af0",
   "metadata": {},
   "outputs": [],
   "source": [
    "import os\n",
    "clear = lambda: os.system('cls')"
   ]
  },
  {
   "cell_type": "code",
   "execution_count": 2,
   "id": "10de1ae8",
   "metadata": {},
   "outputs": [],
   "source": [
    "logo = '''\n",
    "                         ___________\n",
    "                         \\         /\n",
    "                          )_______(\n",
    "                          |\"\"\"\"\"\"\"|_.-._,.---------.,_.-._\n",
    "                          |       | | |               | | ''-.\n",
    "                          |       |_| |_             _| |_..-'\n",
    "                          |_______| '-' `'---------'` '-'\n",
    "                          )\"\"\"\"\"\"\"(\n",
    "                         /_________\\\\\n",
    "                       .-------------.\n",
    "                      /_______________\\\\\n",
    "'''"
   ]
  },
  {
   "cell_type": "code",
   "execution_count": 3,
   "id": "aefee11a",
   "metadata": {},
   "outputs": [
    {
     "name": "stdout",
     "output_type": "stream",
     "text": [
      "\n",
      "                         ___________\n",
      "                         \\         /\n",
      "                          )_______(\n",
      "                          |\"\"\"\"\"\"\"|_.-._,.---------.,_.-._\n",
      "                          |       | | |               | | ''-.\n",
      "                          |       |_| |_             _| |_..-'\n",
      "                          |_______| '-' `'---------'` '-'\n",
      "                          )\"\"\"\"\"\"\"(\n",
      "                         /_________\\\n",
      "                       .-------------.\n",
      "                      /_______________\\\n",
      "\n"
     ]
    }
   ],
   "source": [
    "print(logo)\n"
   ]
  },
  {
   "cell_type": "code",
   "execution_count": 4,
   "id": "da088c81",
   "metadata": {},
   "outputs": [
    {
     "name": "stdout",
     "output_type": "stream",
     "text": [
      "What is your name?: Vivek\n",
      "What is your bid?: $120\n",
      "Are there any other bidders? Type 'yes or 'no'.\n",
      "yes\n",
      "What is your name?: Richa\n",
      "What is your bid?: $140\n",
      "Are there any other bidders? Type 'yes or 'no'.\n",
      "no\n",
      "The winner is Richa with a bid of $140\n"
     ]
    }
   ],
   "source": [
    "bids = {}\n",
    "bidding_finished = False\n",
    "\n",
    "def find_highest_bidder(bidding_record):\n",
    "  highest_bid = 0\n",
    "  winner = \"\"\n",
    "  # bidding_record = {\"Angela\": 123, \"James\": 321}\n",
    "  for bidder in bidding_record:\n",
    "    bid_amount = bidding_record[bidder]\n",
    "    if bid_amount > highest_bid: \n",
    "      highest_bid = bid_amount\n",
    "      winner = bidder\n",
    "  print(f\"The winner is {winner} with a bid of ${highest_bid}\")\n",
    "\n",
    "while not bidding_finished:\n",
    "  name = input(\"What is your name?: \")\n",
    "  price = int(input(\"What is your bid?: $\"))\n",
    "  bids[name] = price\n",
    "  should_continue = input(\"Are there any other bidders? Type 'yes or 'no'.\\n\")\n",
    "  if should_continue == \"no\":\n",
    "    bidding_finished = True\n",
    "    find_highest_bidder(bids)\n",
    "  elif should_continue == \"yes\":\n",
    "    clear()"
   ]
  }
 ],
 "metadata": {
  "kernelspec": {
   "display_name": "Python 3",
   "language": "python",
   "name": "python3"
  },
  "language_info": {
   "codemirror_mode": {
    "name": "ipython",
    "version": 3
   },
   "file_extension": ".py",
   "mimetype": "text/x-python",
   "name": "python",
   "nbconvert_exporter": "python",
   "pygments_lexer": "ipython3",
   "version": "3.8.8"
  }
 },
 "nbformat": 4,
 "nbformat_minor": 5
}
